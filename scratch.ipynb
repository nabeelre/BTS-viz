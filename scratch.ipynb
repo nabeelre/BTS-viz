{
 "cells": [
  {
   "cell_type": "code",
   "execution_count": 2,
   "id": "0167c36b",
   "metadata": {},
   "outputs": [],
   "source": [
    "from manim import *\n",
    "\n",
    "config.media_width = \"75%\"\n",
    "config.verbosity = \"WARNING\""
   ]
  },
  {
   "cell_type": "code",
   "execution_count": 59,
   "id": "1b5870d0",
   "metadata": {},
   "outputs": [
    {
     "name": "stderr",
     "output_type": "stream",
     "text": [
      "                                                                                                                           \r"
     ]
    },
    {
     "data": {
      "text/html": [
       "<video src=\"media/jupyter/BrighteningDot@2024-02-20@22-44-17.mp4\" controls autoplay loop style=\"max-width: 75%;\"  >\n",
       "      Your browser does not support the <code>video</code> element.\n",
       "    </video>"
      ],
      "text/plain": [
       "<IPython.core.display.Video object>"
      ]
     },
     "metadata": {},
     "output_type": "display_data"
    }
   ],
   "source": [
    "%%manim -qm BrighteningDot\n",
    "\n",
    "class BrighteningDot(Scene):\n",
    "    def construct(self):\n",
    "        # Create a dot\n",
    "        dot = Dot(color=WHITE)\n",
    "\n",
    "        # Animate the dot to quickly get brighter\n",
    "        self.play(FadeIn(dot, rate_func=rush_from, run_time=0.5))\n",
    "\n",
    "        # Animate the dot to progressively get dimmer\n",
    "        self.play(FadeOut(dot, rate_func=linear, run_time=2))\n",
    "\n",
    "        # Show the scene\n",
    "        self.wait()\n",
    "\n"
   ]
  },
  {
   "cell_type": "code",
   "execution_count": null,
   "id": "a3358473",
   "metadata": {},
   "outputs": [],
   "source": []
  }
 ],
 "metadata": {
  "kernelspec": {
   "display_name": "Python 3 (ipykernel)",
   "language": "python",
   "name": "python3"
  },
  "language_info": {
   "codemirror_mode": {
    "name": "ipython",
    "version": 3
   },
   "file_extension": ".py",
   "mimetype": "text/x-python",
   "name": "python",
   "nbconvert_exporter": "python",
   "pygments_lexer": "ipython3",
   "version": "3.10.6"
  }
 },
 "nbformat": 4,
 "nbformat_minor": 5
}
